{
 "cells": [
  {
   "cell_type": "markdown",
   "metadata": {},
   "source": [
    "# Redes Neurais - Perceptron de camada única\n",
    "## Conforme transparência apresentada pelo professor segue a implementação descritiva dos ciclos do treinamento do perceptron de camada única, baseado na regra Hebb, para o problema da função AND."
   ]
  },
  {
   "cell_type": "markdown",
   "metadata": {},
   "source": [
    "## Dataset"
   ]
  },
  {
   "cell_type": "code",
   "execution_count": 161,
   "metadata": {},
   "outputs": [],
   "source": [
    "import numpy as np\n",
    "\n",
    "dataset = np.array([[1, 0, 0, 0],\n",
    "                    [1, 0, 1, 0],\n",
    "                    [1, 1, 0, 0],\n",
    "                    [1, 1, 1, 1]])\n",
    "w = np.zeros(3)\n",
    "eta = 0.5\n",
    "\n",
    "x = dataset[:, :-1]\n",
    "t = dataset[:, -1]"
   ]
  },
  {
   "cell_type": "markdown",
   "metadata": {},
   "source": [
    "## Funções"
   ]
  },
  {
   "cell_type": "code",
   "execution_count": 162,
   "metadata": {},
   "outputs": [],
   "source": [
    "def net(x, w):\n",
    "    return np.dot(x, w)\n",
    "\n",
    "def degrau(u):\n",
    "    return 1 if u > 0 else 0\n",
    "\n",
    "def saida(x, w):\n",
    "    return degrau(net(x, w))\n",
    "\n",
    "def ajusteW(w, eta, t, y, x):\n",
    "    return w + eta * (t - y) * x"
   ]
  },
  {
   "cell_type": "markdown",
   "metadata": {},
   "source": [
    "## Treinamento"
   ]
  },
  {
   "cell_type": "code",
   "execution_count": 163,
   "metadata": {},
   "outputs": [
    {
     "name": "stdout",
     "output_type": "stream",
     "text": [
      "1 º Ciclo\n",
      "Época  1 : entrada  0  - pesos OK!\n",
      "Época  2 : entrada  1  - pesos OK!\n",
      "Época  3 : entrada  2  - pesos OK!\n",
      "Época  4 : entrada  3  - pesos ajustados: [0.5 0.5 0.5]\n",
      "2 º Ciclo\n",
      "Época  5 : entrada  0  - pesos ajustados: [0.  0.5 0.5]\n",
      "Época  6 : entrada  1  - pesos ajustados: [-0.5  0.5  0. ]\n",
      "Época  7 : entrada  2  - pesos OK!\n",
      "Época  8 : entrada  3  - pesos ajustados: [0.  1.  0.5]\n",
      "3 º Ciclo\n",
      "Época  9 : entrada  0  - pesos OK!\n",
      "Época  10 : entrada  1  - pesos ajustados: [-0.5  1.   0. ]\n",
      "Época  11 : entrada  2  - pesos ajustados: [-1.   0.5  0. ]\n",
      "Época  12 : entrada  3  - pesos ajustados: [-0.5  1.   0.5]\n",
      "4 º Ciclo\n",
      "Época  13 : entrada  0  - pesos OK!\n",
      "Época  14 : entrada  1  - pesos OK!\n",
      "Época  15 : entrada  2  - pesos ajustados: [-1.   0.5  0.5]\n",
      "Época  16 : entrada  3  - pesos ajustados: [-0.5  1.   1. ]\n",
      "5 º Ciclo\n",
      "Época  17 : entrada  0  - pesos OK!\n",
      "Época  18 : entrada  1  - pesos ajustados: [-1.   1.   0.5]\n",
      "Época  19 : entrada  2  - pesos OK!\n",
      "Época  20 : entrada  3  - pesos OK!\n",
      "6 º Ciclo\n",
      "Época  21 : entrada  0  - pesos OK!\n",
      "Época  22 : entrada  1  - pesos OK!\n",
      "Época  23 : entrada  2  - pesos OK!\n",
      "Época  24 : entrada  3  - pesos OK!\n",
      "\n",
      "Pesos ótimos:  [-1.   1.   0.5]\n"
     ]
    }
   ],
   "source": [
    "erro = True\n",
    "ciclo = 1\n",
    "epoca = 1\n",
    "while erro:\n",
    "    print(ciclo, 'º Ciclo')\n",
    "    erro = False\n",
    "    for i in range(len(x)):\n",
    "        y = saida(x[i], w)\n",
    "        if y != t[i]:\n",
    "            w = ajusteW(w, eta, t[i], y, x[i])\n",
    "            erro = True\n",
    "            print('Época ', epoca, ': entrada ', i, ' - pesos ajustados:', w)\n",
    "        else:\n",
    "            print('Época ', epoca, ': entrada ', i, ' - pesos OK!')\n",
    "        epoca += 1\n",
    "    ciclo += 1\n",
    "\n",
    "print('\\nPesos ótimos: ', w)"
   ]
  },
  {
   "cell_type": "markdown",
   "metadata": {},
   "source": [
    "## Visualização da otimização"
   ]
  },
  {
   "cell_type": "code",
   "execution_count": 164,
   "metadata": {},
   "outputs": [
    {
     "ename": "ValueError",
     "evalue": "cannot reshape array of size 640000 into shape (400,400)",
     "output_type": "error",
     "traceback": [
      "\u001b[1;31m---------------------------------------------------------------------------\u001b[0m",
      "\u001b[1;31mValueError\u001b[0m                                Traceback (most recent call last)",
      "\u001b[1;32m<ipython-input-164-77c2790355ac>\u001b[0m in \u001b[0;36m<module>\u001b[1;34m\u001b[0m\n\u001b[0;32m     43\u001b[0m     \u001b[0mZ\u001b[0m\u001b[1;33m.\u001b[0m\u001b[0mappend\u001b[0m\u001b[1;33m(\u001b[0m\u001b[0mt\u001b[0m\u001b[1;33m)\u001b[0m\u001b[1;33m\u001b[0m\u001b[1;33m\u001b[0m\u001b[0m\n\u001b[0;32m     44\u001b[0m \u001b[1;33m\u001b[0m\u001b[0m\n\u001b[1;32m---> 45\u001b[1;33m \u001b[0mZ\u001b[0m \u001b[1;33m=\u001b[0m \u001b[0mnp\u001b[0m\u001b[1;33m.\u001b[0m\u001b[0marray\u001b[0m\u001b[1;33m(\u001b[0m\u001b[0mZ\u001b[0m\u001b[1;33m)\u001b[0m\u001b[1;33m.\u001b[0m\u001b[0mreshape\u001b[0m\u001b[1;33m(\u001b[0m\u001b[0mxx\u001b[0m\u001b[1;33m.\u001b[0m\u001b[0mshape\u001b[0m\u001b[1;33m)\u001b[0m\u001b[1;33m\u001b[0m\u001b[1;33m\u001b[0m\u001b[0m\n\u001b[0m\u001b[0;32m     46\u001b[0m \u001b[0mCS\u001b[0m \u001b[1;33m=\u001b[0m \u001b[0max\u001b[0m\u001b[1;33m.\u001b[0m\u001b[0mcontour\u001b[0m\u001b[1;33m(\u001b[0m\u001b[0mxx\u001b[0m\u001b[1;33m,\u001b[0m \u001b[0myy\u001b[0m\u001b[1;33m,\u001b[0m \u001b[0mZ\u001b[0m\u001b[1;33m,\u001b[0m \u001b[0mcolors\u001b[0m\u001b[1;33m=\u001b[0m\u001b[1;33m[\u001b[0m\u001b[0mpal\u001b[0m\u001b[1;33m[\u001b[0m\u001b[1;36m2\u001b[0m\u001b[1;33m]\u001b[0m\u001b[1;33m]\u001b[0m\u001b[1;33m)\u001b[0m\u001b[1;33m\u001b[0m\u001b[1;33m\u001b[0m\u001b[0m\n\u001b[0;32m     47\u001b[0m \u001b[1;31m#ax.axis('off')\u001b[0m\u001b[1;33m\u001b[0m\u001b[1;33m\u001b[0m\u001b[1;33m\u001b[0m\u001b[0m\n",
      "\u001b[1;31mValueError\u001b[0m: cannot reshape array of size 640000 into shape (400,400)"
     ]
    },
    {
     "data": {
      "image/png": "[encoded data removed]",
      "text/plain": [
       "<Figure size 432x288 with 1 Axes>"
      ]
     },
     "metadata": {
      "needs_background": "light"
     },
     "output_type": "display_data"
    }
   ],
   "source": [
    "# Plota os dados\n",
    "import seaborn as sns\n",
    "x = dataset[:, 1:-1]\n",
    "\n",
    "pal = sns.color_palette('colorblind', 3)\n",
    "fig, ax = plt.subplots(1)\n",
    "xmin = min(x[:,0]) - 0.5\n",
    "xmax = max(x[:,0]) + 0.5\n",
    "ymin = min(x[:,1]) - 0.5\n",
    "ymax = max(x[:,1]) + 0.5\n",
    "ax.set_xlim([xmin, xmax])\n",
    "ax.set_ylim([ymin, ymax])\n",
    "\n",
    "ax.set_title('Problema: {}'.format('AND'), fontsize=20)\n",
    "ax.set_xlabel('$x_1$', fontsize=20)\n",
    "h = ax.set_ylabel('$x_2$', fontsize=20, labelpad=20)\n",
    "h.set_rotation(0)\n",
    "\n",
    "# Plota os pontos de cada classe\n",
    "lgClass0 = None\n",
    "lgClass1 = None\n",
    "for x, y in zip(x, t):\n",
    "    if y == 0:\n",
    "        color = pal[0]\n",
    "    else:\n",
    "        color = pal[1]\n",
    "    obj, = ax.plot([x[0]], [x[1]], c=color, marker='o', markersize=8,\n",
    "                                    linestyle='None')\n",
    "    if y == 0:\n",
    "        lgClass0 = obj\n",
    "    else:\n",
    "        lgClass1 = obj\n",
    "\n",
    "# Plota a fronteira de separação (isto é, o hiperplano definido pelos pesos)\n",
    "# Para isso, usa uma grade de valores previstos com o próprio classificador\n",
    "# treinado a partir dos dados\n",
    "\n",
    "h = 0.005 # Tamanho dos \"passos\" para a grade a ser criada\n",
    "xx, yy = np.meshgrid(np.arange(xmin, xmax, h), np.arange(ymin, ymax, h))\n",
    "\n",
    "Z = []\n",
    "for x in np.c_[xx.ravel(), yy.ravel()]:\n",
    "    Z.append(t)\n",
    "\n",
    "Z = np.array(Z).reshape(xx.shape)\n",
    "CS = ax.contour(xx, yy, Z, colors=[pal[2]])\n",
    "#ax.axis('off')\n",
    "\n",
    "label = 'Hiperplano separador ($w = [{:.2f}, {:.2f}]$, $b = {:.2f}$)'\n",
    "ax.legend([lgClass0, lgClass1, CS.collections[0]],\n",
    "        ['Classe A', 'Classe B', label.format(w[1], w[2])],\n",
    "        ncol=3, loc='upper right', prop={'size': 12})\n",
    "\n",
    "plt.show()"
   ]
  }
 ],
 "metadata": {
  "interpreter": {
   "hash": "4c4c8cfd539e0411d3cc5c1e72b05a7dbcf36342c56df37f381a6ef1a534e6cb"
  },
  "kernelspec": {
   "display_name": "Python 3.8.8 64-bit ('base': conda)",
   "name": "python3"
  },
  "language_info": {
   "codemirror_mode": {
    "name": "ipython",
    "version": 3
   },
   "file_extension": ".py",
   "mimetype": "text/x-python",
   "name": "python",
   "nbconvert_exporter": "python",
   "pygments_lexer": "ipython3",
   "version": "3.8.8"
  },
  "orig_nbformat": 4
 },
 "nbformat": 4,
 "nbformat_minor": 2
}
